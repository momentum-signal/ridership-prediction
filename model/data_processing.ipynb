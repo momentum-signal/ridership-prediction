{
 "cells": [
  {
   "metadata": {},
   "cell_type": "markdown",
   "source": [
    "# Data Processing\n",
    "\n",
    "\n"
   ],
   "id": "8a77807f92f26ee"
  },
  {
   "metadata": {},
   "cell_type": "markdown",
   "source": "### Libraries",
   "id": "e7add9d588bfafad"
  },
  {
   "metadata": {
    "ExecuteTime": {
     "end_time": "2025-04-19T06:03:50.929240Z",
     "start_time": "2025-04-19T06:03:50.916581Z"
    }
   },
   "cell_type": "code",
   "source": "import pandas as pd",
   "id": "d4206fad817bd0e5",
   "outputs": [],
   "execution_count": 5
  },
  {
   "metadata": {},
   "cell_type": "markdown",
   "source": [
    "### Day of Week and Is Weekend Data Preprocessing\n",
    "\n",
    "The goal of this code is to preprocess the **ridership data** by adding two new columns:\n",
    "1. **Day of Week**: A column that maps each date to the corresponding day of the week, where Monday is `1` and Sunday is `7`.\n",
    "2. **Is Weekend**: A binary column indicating whether the day is a weekend (Saturday or Sunday).\n",
    "\n"
   ],
   "id": "954ba3ebb45d4477"
  },
  {
   "metadata": {
    "ExecuteTime": {
     "end_time": "2025-04-19T06:29:08.424313Z",
     "start_time": "2025-04-19T06:29:07.554919Z"
    }
   },
   "cell_type": "code",
   "source": [
    "# Load the dataset\n",
    "df = pd.read_csv('./data/raw_data.csv')\n",
    "\n",
    "# Convert the 'date' column to datetime format\n",
    "df['date'] = pd.to_datetime(df['date'])\n",
    "\n",
    "# Extract 'Day of Week' (1 = Monday, 7 = Sunday)\n",
    "df['day_of_week'] = df['date'].dt.dayofweek + 1  # Monday as 1, Sunday as 7\n",
    "\n",
    "# Add 'Is_Weekend' column: True (1) for Saturday (6) and Sunday (7)\n",
    "df['is_weekend'] = df['day_of_week'].apply(lambda x: 1 if x >= 6 else 0)\n",
    "\n",
    "# Save the cleaned data to a new CSV file\n",
    "df.to_csv('./data/cleaned_data.csv', index=False)\n",
    "\n",
    "# Print the first few rows to verify\n",
    "print(df.head())\n"
   ],
   "id": "613f901212cdb3d4",
   "outputs": [
    {
     "name": "stdout",
     "output_type": "stream",
     "text": [
      "        date   time          origin       destination  ridership  day_of_week  \\\n",
      "0 2025-01-01  00:00  Abdullah Hukum             Klang          1            3   \n",
      "1 2025-01-01  00:00  Abdullah Hukum       Telok Pulai          1            3   \n",
      "2 2025-01-01  00:00           Bangi        Batu Caves          1            3   \n",
      "3 2025-01-01  00:00     Bank Negara      Sungai Gadut          1            3   \n",
      "4 2025-01-01  00:00       Batu Tiga  Kampung Raja Uda          1            3   \n",
      "\n",
      "   is_weekend  \n",
      "0           0  \n",
      "1           0  \n",
      "2           0  \n",
      "3           0  \n",
      "4           0  \n"
     ]
    }
   ],
   "execution_count": 10
  },
  {
   "metadata": {},
   "cell_type": "markdown",
   "source": [
    "### Public Holidays (2025) Data Processing\n",
    "The goal of this code is to preprocess the public holiday data by adding a new column:\n",
    "\n",
    "Is Holiday: A binary column indicating whether the date corresponds to a public holiday, based on a predefined list of national holidays and the Sultan of Selangor's Birthday."
   ],
   "id": "b982b4c8cf2e18ac"
  },
  {
   "metadata": {
    "ExecuteTime": {
     "end_time": "2025-04-19T06:40:44.459811Z",
     "start_time": "2025-04-19T06:40:43.624029Z"
    }
   },
   "cell_type": "code",
   "source": [
    "# Load the cleaned data\n",
    "df = pd.read_csv('./data/cleaned_data.csv')\n",
    "\n",
    "# List of public holidays (National and Selangor)\n",
    "holidays_data = [\n",
    "    (\"2025-01-01\", \"New Year's Day\"),\n",
    "    (\"2025-01-29\", \"Chinese New Year\"),\n",
    "    (\"2025-01-30\", \"Chinese New Year Holiday\"),\n",
    "    (\"2025-02-11\", \"Thaipusam\"),\n",
    "    (\"2025-03-31\", \"Hari Raya Aidilfitri\"),\n",
    "    (\"2025-04-01\", \"Hari Raya Aidilfitri Holiday\"),\n",
    "    (\"2025-05-01\", \"Labour Day\"),\n",
    "    (\"2025-05-12\", \"Wesak Day\"),\n",
    "    (\"2025-06-02\", \"Agong's Birthday\"),\n",
    "    (\"2025-06-07\", \"Hari Raya Haji\"),\n",
    "    (\"2025-06-27\", \"Awal Muharram\"),\n",
    "    (\"2025-08-31\", \"Merdeka Day\"),\n",
    "    (\"2025-09-01\", \"Merdeka Day Holiday\"),\n",
    "    (\"2025-09-05\", \"Prophet Muhammad's Birthday\"),\n",
    "    (\"2025-09-16\", \"Malaysia Day\"),\n",
    "    (\"2025-10-20\", \"Deepavali\"),\n",
    "    (\"2025-12-11\", \"Sultan of Selangor's Birthday\"),\n",
    "    (\"2025-12-25\", \"Christmas Day\")\n",
    "]\n",
    "\n",
    "# Convert holiday data to a DataFrame\n",
    "holidays_df = pd.DataFrame(holidays_data, columns=[\"Date\", \"Holiday\"])\n",
    "\n",
    "# Ensure the date columns are in datetime format for comparison\n",
    "df['date'] = pd.to_datetime(df['date'])\n",
    "holidays_df['Date'] = pd.to_datetime(holidays_df['Date'])\n",
    "\n",
    "# Add 'is_holiday' column based on whether the date matches any holiday\n",
    "df['is_holiday'] = df['date'].isin(holidays_df['Date']).astype(int)\n",
    "\n",
    "# Save the updated cleaned data back to the same file\n",
    "df.to_csv('./data/cleaned_data.csv', index=False)\n",
    "\n",
    "print(df.head())\n"
   ],
   "id": "9b34e9565a9fd4ec",
   "outputs": [
    {
     "name": "stdout",
     "output_type": "stream",
     "text": [
      "        date   time          origin       destination  ridership  day_of_week  \\\n",
      "0 2025-01-01  00:00  Abdullah Hukum             Klang          1            3   \n",
      "1 2025-01-01  00:00  Abdullah Hukum       Telok Pulai          1            3   \n",
      "2 2025-01-01  00:00           Bangi        Batu Caves          1            3   \n",
      "3 2025-01-01  00:00     Bank Negara      Sungai Gadut          1            3   \n",
      "4 2025-01-01  00:00       Batu Tiga  Kampung Raja Uda          1            3   \n",
      "\n",
      "   is_weekend  is_holiday  \n",
      "0           0           1  \n",
      "1           0           1  \n",
      "2           0           1  \n",
      "3           0           1  \n",
      "4           0           1  \n"
     ]
    }
   ],
   "execution_count": 16
  }
 ],
 "metadata": {
  "kernelspec": {
   "display_name": "Python 3",
   "language": "python",
   "name": "python3"
  },
  "language_info": {
   "codemirror_mode": {
    "name": "ipython",
    "version": 2
   },
   "file_extension": ".py",
   "mimetype": "text/x-python",
   "name": "python",
   "nbconvert_exporter": "python",
   "pygments_lexer": "ipython2",
   "version": "2.7.6"
  }
 },
 "nbformat": 4,
 "nbformat_minor": 5
}
